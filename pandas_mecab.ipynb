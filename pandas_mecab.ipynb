{
 "cells": [
  {
   "cell_type": "code",
   "execution_count": 1,
   "metadata": {},
   "outputs": [
    {
     "name": "stdout",
     "output_type": "stream",
     "text": [
      "   title author release_date update_date  \\\n",
      "0  走れメロス    太宰治   2000-12-04  2011-01-17   \n",
      "\n",
      "                                                body  \n",
      "0   メロスは激怒した。必ず、かの邪智暴虐《じゃちぼうぎゃく》の王を除かなければならぬと決意した...  \n"
     ]
    },
    {
     "name": "stderr",
     "output_type": "stream",
     "text": [
      "C:\\Users\\ryoun\\AppData\\Local\\Temp\\ipykernel_18856\\986321221.py:3: DeprecationWarning: \n",
      "Pyarrow will become a required dependency of pandas in the next major release of pandas (pandas 3.0),\n",
      "(to allow more performant data types, such as the Arrow string type, and better interoperability with other libraries)\n",
      "but was not found to be installed on your system.\n",
      "If this would cause problems for you,\n",
      "please provide us feedback at https://github.com/pandas-dev/pandas/issues/54466\n",
      "        \n",
      "  import pandas as pd\n"
     ]
    }
   ],
   "source": [
    "import unicodedata\n",
    "import re\n",
    "import pandas as pd\n",
    "\n",
    "# =====================================================================\n",
    "\n",
    "# ファイルを開いて全文、タイトル、著者を読み込む\n",
    "with open('data/hashire_merosu.txt', mode='r', encoding='UTF-8') as f:\n",
    "    title = f.readline()\n",
    "    author = f.readline()\n",
    "    content = f.read()\n",
    "\n",
    "# 改行を無くし全文をつなげる\n",
    "content = ' '.join(content.split())\n",
    "# 文章を正規化する\n",
    "content = unicodedata.normalize('NFKC', content)\n",
    "\n",
    "# 本文以外に該当する部分を切り離す\n",
    "pattern = re.compile(r'^.+(#地から1字上げ].+#地から1字上げ]).+$')\n",
    "body =re.match(pattern, content).group(1)\n",
    "\n",
    "# 本文のみにクリーニングする\n",
    "body = body.replace('#地から1字上げ] -------------------------------------------------------', '')\n",
    "body = body.replace(' [#地から1字上げ]', '')\n",
    "\n",
    "# タイトルと著者を別途取って来る(改行を除外)\n",
    "title = title.replace('\\n', '')\n",
    "\n",
    "author = author.replace('\\n', '')\n",
    "\n",
    "# =====================================================================\n",
    "\n",
    "# ファイルを開いて全文を読み込む\n",
    "with open('data/hashire_merosu.txt', mode='r', encoding='UTF-8') as f:\n",
    "    content = f.readlines()\n",
    "\n",
    "# データフレームに全文を1行ずつ入れる\n",
    "df = pd.DataFrame(content, columns=['text'])\n",
    "df['text'] = df['text'].str.replace('\\n', '')\n",
    "\n",
    "# 公開日と修正日について\n",
    "date = df[(df['text'].str.contains('日公開'))|(df['text'].str.contains('日修正'))].copy()\n",
    "\n",
    "date['text'] = date['text'].str.replace('公開', '')\n",
    "date['text'] = date['text'].str.replace('修正', '')\n",
    "\n",
    "date['text'] = date['text'].str.replace('年', '/')\n",
    "date['text'] = date['text'].str.replace('月', '/')\n",
    "date['text'] = date['text'].str.replace('日', '')\n",
    "\n",
    "date['text'] = pd.to_datetime(date['text'])\n",
    "date.dtypes\n",
    "\n",
    "# 取得した日時と計算結果\n",
    "release_date = date.iat[0, 0]\n",
    "update_date = date.iat[1, 0]\n",
    "# print(release_date)\n",
    "# print(update_date)\n",
    "\n",
    "date = update_date - release_date\n",
    "\n",
    "\n",
    "# 取得項目を格納したデータフレーム\n",
    "booklist = pd.DataFrame([[title, author, release_date, update_date, body]],\n",
    "columns = ['title', 'author', 'release_date', 'update_date', 'body'])\n",
    "\n",
    "print(booklist)"
   ]
  },
  {
   "cell_type": "code",
   "execution_count": 2,
   "metadata": {},
   "outputs": [
    {
     "data": {
      "text/html": [
       "<div>\n",
       "<style scoped>\n",
       "    .dataframe tbody tr th:only-of-type {\n",
       "        vertical-align: middle;\n",
       "    }\n",
       "\n",
       "    .dataframe tbody tr th {\n",
       "        vertical-align: top;\n",
       "    }\n",
       "\n",
       "    .dataframe thead th {\n",
       "        text-align: right;\n",
       "    }\n",
       "</style>\n",
       "<table border=\"1\" class=\"dataframe\">\n",
       "  <thead>\n",
       "    <tr style=\"text-align: right;\">\n",
       "      <th></th>\n",
       "      <th>title</th>\n",
       "      <th>author</th>\n",
       "      <th>release_date</th>\n",
       "      <th>update_date</th>\n",
       "      <th>body</th>\n",
       "    </tr>\n",
       "  </thead>\n",
       "  <tbody>\n",
       "    <tr>\n",
       "      <th>0</th>\n",
       "      <td>走れメロス</td>\n",
       "      <td>太宰治</td>\n",
       "      <td>2000-12-04</td>\n",
       "      <td>2011-01-17</td>\n",
       "      <td>メロスは激怒した。必ず、かの邪智暴虐《じゃちぼうぎゃく》の王を除かなければならぬと決意した...</td>\n",
       "    </tr>\n",
       "  </tbody>\n",
       "</table>\n",
       "</div>"
      ],
      "text/plain": [
       "   title author release_date update_date  \\\n",
       "0  走れメロス    太宰治   2000-12-04  2011-01-17   \n",
       "\n",
       "                                                body  \n",
       "0   メロスは激怒した。必ず、かの邪智暴虐《じゃちぼうぎゃく》の王を除かなければならぬと決意した...  "
      ]
     },
     "execution_count": 2,
     "metadata": {},
     "output_type": "execute_result"
    }
   ],
   "source": [
    "booklist"
   ]
  },
  {
   "cell_type": "code",
   "execution_count": 5,
   "metadata": {},
   "outputs": [
    {
     "data": {
      "text/plain": [
       "['メロス\\t名詞,一般,*,*,*,*,*',\n",
       " 'は\\t助詞,係助詞,*,*,*,*,は,ハ,ワ',\n",
       " '激怒\\t名詞,サ変接続,*,*,*,*,激怒,ゲキド,ゲキド',\n",
       " 'し\\t動詞,自立,*,*,サ変・スル,連用形,する,シ,シ']"
      ]
     },
     "execution_count": 5,
     "metadata": {},
     "output_type": "execute_result"
    }
   ],
   "source": [
    "import MeCab\n",
    "tagger = MeCab.Tagger()\n",
    "body = booklist.iloc[0, 4]\n",
    "parsed = tagger.parse(body).split('\\n')\n",
    "parsed[:4]"
   ]
  },
  {
   "cell_type": "code",
   "execution_count": 7,
   "metadata": {},
   "outputs": [
    {
     "data": {
      "text/plain": [
       "['た\\t助動詞,*,*,*,特殊・タ,基本形,た,タ,タ', '。\\t記号,句点,*,*,*,*,。,。,。', 'EOS', '']"
      ]
     },
     "execution_count": 7,
     "metadata": {},
     "output_type": "execute_result"
    }
   ],
   "source": [
    "parsed[-4:]"
   ]
  },
  {
   "cell_type": "code",
   "execution_count": 8,
   "metadata": {},
   "outputs": [
    {
     "data": {
      "text/plain": [
       "['赤面\\t名詞,サ変接続,*,*,*,*,赤面,セキメン,セキメン',\n",
       " 'し\\t動詞,自立,*,*,サ変・スル,連用形,する,シ,シ',\n",
       " 'た\\t助動詞,*,*,*,特殊・タ,基本形,た,タ,タ',\n",
       " '。\\t記号,句点,*,*,*,*,。,。,。']"
      ]
     },
     "execution_count": 8,
     "metadata": {},
     "output_type": "execute_result"
    }
   ],
   "source": [
    "parsed = parsed[:-2]\n",
    "parsed[-4:]"
   ]
  },
  {
   "cell_type": "code",
   "execution_count": 11,
   "metadata": {},
   "outputs": [],
   "source": [
    "import re"
   ]
  },
  {
   "cell_type": "code",
   "execution_count": 12,
   "metadata": {},
   "outputs": [
    {
     "ename": "AttributeError",
     "evalue": "module 're' has no attribute 'splite'",
     "output_type": "error",
     "traceback": [
      "\u001b[1;31m---------------------------------------------------------------------------\u001b[0m",
      "\u001b[1;31mAttributeError\u001b[0m                            Traceback (most recent call last)",
      "Cell \u001b[1;32mIn[12], line 1\u001b[0m\n\u001b[1;32m----> 1\u001b[0m \u001b[38;5;241m*\u001b[39mvalues, \u001b[38;5;241m=\u001b[39m \u001b[38;5;28mmap\u001b[39m(\u001b[38;5;28;01mlambda\u001b[39;00m s: re\u001b[38;5;241m.\u001b[39msplite(\u001b[38;5;124mr\u001b[39m\u001b[38;5;124m'\u001b[39m\u001b[38;5;124m\\\u001b[39m\u001b[38;5;124mt|,\u001b[39m\u001b[38;5;124m'\u001b[39m, s), parsed)\n\u001b[0;32m      2\u001b[0m values[:\u001b[38;5;241m4\u001b[39m]\n",
      "Cell \u001b[1;32mIn[12], line 1\u001b[0m, in \u001b[0;36m<lambda>\u001b[1;34m(s)\u001b[0m\n\u001b[1;32m----> 1\u001b[0m \u001b[38;5;241m*\u001b[39mvalues, \u001b[38;5;241m=\u001b[39m \u001b[38;5;28mmap\u001b[39m(\u001b[38;5;28;01mlambda\u001b[39;00m s: \u001b[43mre\u001b[49m\u001b[38;5;241;43m.\u001b[39;49m\u001b[43msplite\u001b[49m(\u001b[38;5;124mr\u001b[39m\u001b[38;5;124m'\u001b[39m\u001b[38;5;124m\\\u001b[39m\u001b[38;5;124mt|,\u001b[39m\u001b[38;5;124m'\u001b[39m, s), parsed)\n\u001b[0;32m      2\u001b[0m values[:\u001b[38;5;241m4\u001b[39m]\n",
      "\u001b[1;31mAttributeError\u001b[0m: module 're' has no attribute 'splite'"
     ]
    }
   ],
   "source": [
    "*values, = map(lambda s: re.split(r'\\t|,', s), parsed)\n",
    "values[:4]"
   ]
  },
  {
   "cell_type": "code",
   "execution_count": null,
   "metadata": {},
   "outputs": [],
   "source": []
  }
 ],
 "metadata": {
  "kernelspec": {
   "display_name": "env",
   "language": "python",
   "name": "python3"
  },
  "language_info": {
   "codemirror_mode": {
    "name": "ipython",
    "version": 3
   },
   "file_extension": ".py",
   "mimetype": "text/x-python",
   "name": "python",
   "nbconvert_exporter": "python",
   "pygments_lexer": "ipython3",
   "version": "3.10.11"
  }
 },
 "nbformat": 4,
 "nbformat_minor": 2
}
